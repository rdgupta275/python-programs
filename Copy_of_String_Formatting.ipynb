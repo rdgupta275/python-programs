{
  "nbformat": 4,
  "nbformat_minor": 0,
  "metadata": {
    "colab": {
      "name": "Copy of String Formatting.ipynb",
      "provenance": [],
      "collapsed_sections": [],
      "authorship_tag": "ABX9TyOpVtCa0IFGSBl/ovs6SGi0",
      "include_colab_link": true
    },
    "kernelspec": {
      "name": "python3",
      "display_name": "Python 3"
    }
  },
  "cells": [
    {
      "cell_type": "markdown",
      "metadata": {
        "id": "view-in-github",
        "colab_type": "text"
      },
      "source": [
        "<a href=\"https://colab.research.google.com/github/rdgupta276/python-programs/blob/master/Copy_of_String_Formatting.ipynb\" target=\"_parent\"><img src=\"https://colab.research.google.com/assets/colab-badge.svg\" alt=\"Open In Colab\"/></a>"
      ]
    },
    {
      "cell_type": "code",
      "metadata": {
        "id": "U26Bf8s0CXmh",
        "colab_type": "code",
        "outputId": "5686b0a2-9599-4f9d-c09c-be574c958e78",
        "colab": {
          "base_uri": "https://localhost:8080/",
          "height": 34
        }
      },
      "source": [
        "print('I am going to inject %s here' %'tanisha')"
      ],
      "execution_count": 0,
      "outputs": [
        {
          "output_type": "stream",
          "text": [
            "I am going to inject tanisha here\n"
          ],
          "name": "stdout"
        }
      ]
    },
    {
      "cell_type": "code",
      "metadata": {
        "id": "vE9V5PTqFBTY",
        "colab_type": "code",
        "outputId": "aa7f6bd1-344e-4651-f576-fbbf5dd8e2e7",
        "colab": {
          "base_uri": "https://localhost:8080/",
          "height": 34
        }
      },
      "source": [
        "print('i love my %s very much' %'india' )"
      ],
      "execution_count": 0,
      "outputs": [
        {
          "output_type": "stream",
          "text": [
            "i love my india very much\n"
          ],
          "name": "stdout"
        }
      ]
    },
    {
      "cell_type": "code",
      "metadata": {
        "id": "CEyl8QZuFwGp",
        "colab_type": "code",
        "outputId": "1b106482-9225-42c0-c2d8-6587cb4f8618",
        "colab": {
          "base_uri": "https://localhost:8080/",
          "height": 34
        }
      },
      "source": [
        "print('i have %s car and they are very %s' %('two', 'beautiful'))"
      ],
      "execution_count": 0,
      "outputs": [
        {
          "output_type": "stream",
          "text": [
            "i have two car and they are very beautiful\n"
          ],
          "name": "stdout"
        }
      ]
    },
    {
      "cell_type": "code",
      "metadata": {
        "id": "ub0QFwMsIdJ7",
        "colab_type": "code",
        "outputId": "7587bfe2-26d7-4706-f5b3-1012bed5acef",
        "colab": {
          "base_uri": "https://localhost:8080/",
          "height": 34
        }
      },
      "source": [
        "x = 'two'\n",
        "y = 'beautiful'\n",
        "print('i have %s car and they are  very %s' %(x,y))"
      ],
      "execution_count": 0,
      "outputs": [
        {
          "output_type": "stream",
          "text": [
            "i have two car and they are  very beautiful\n"
          ],
          "name": "stdout"
        }
      ]
    },
    {
      "cell_type": "code",
      "metadata": {
        "id": "oPyHnl-AKzBP",
        "colab_type": "code",
        "outputId": "f21a08e3-110c-47bc-da3b-6f8190a05133",
        "colab": {
          "base_uri": "https://localhost:8080/",
          "height": 34
        }
      },
      "source": [
        "x = '10'\n",
        "y = 'beautiful'\n",
        "z = '2'\n",
        "print('i have %s car and they are very %s. i love driving %s cars' %(x,y,z))"
      ],
      "execution_count": 0,
      "outputs": [
        {
          "output_type": "stream",
          "text": [
            "i have 10 car and they are very beautiful. i love driving 2 cars\n"
          ],
          "name": "stdout"
        }
      ]
    },
    {
      "cell_type": "code",
      "metadata": {
        "id": "8roAOMMaLxsg",
        "colab_type": "code",
        "outputId": "bba49da6-11b4-4675-844a-6c3a21341e9c",
        "colab": {
          "base_uri": "https://localhost:8080/",
          "height": 34
        }
      },
      "source": [
        "print('i have %s car and they are very %s. i love driving %s cars' %('10','beautiful','2'))"
      ],
      "execution_count": 0,
      "outputs": [
        {
          "output_type": "stream",
          "text": [
            "i have 10 car and they are very beautiful. i love driving 2 cars\n"
          ],
          "name": "stdout"
        }
      ]
    },
    {
      "cell_type": "code",
      "metadata": {
        "id": "kjIdzfUkMKtm",
        "colab_type": "code",
        "colab": {}
      },
      "source": [
        ""
      ],
      "execution_count": 0,
      "outputs": []
    }
  ]
}