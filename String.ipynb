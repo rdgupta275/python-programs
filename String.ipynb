{
  "nbformat": 4,
  "nbformat_minor": 0,
  "metadata": {
    "colab": {
      "name": "String.ipynb",
      "provenance": [],
      "collapsed_sections": [],
      "authorship_tag": "ABX9TyMnOwoqezVsSDPfurMZJb5v",
      "include_colab_link": true
    },
    "kernelspec": {
      "name": "python3",
      "display_name": "Python 3"
    }
  },
  "cells": [
    {
      "cell_type": "markdown",
      "metadata": {
        "id": "view-in-github",
        "colab_type": "text"
      },
      "source": [
        "<a href=\"https://colab.research.google.com/github/rdgupta275/python-programs/blob/master/String.ipynb\" target=\"_parent\"><img src=\"https://colab.research.google.com/assets/colab-badge.svg\" alt=\"Open In Colab\"/></a>"
      ]
    },
    {
      "cell_type": "markdown",
      "metadata": {
        "id": "2yDzVYpZ4_kV",
        "colab_type": "text"
      },
      "source": [
        "**Strings**\n",
        "\n",
        "***1 - Creating strings***"
      ]
    },
    {
      "cell_type": "code",
      "metadata": {
        "id": "MI3V8FPH5V7i",
        "colab_type": "code",
        "outputId": "2154d8fb-260b-4ae9-f64b-91584fc32bf6",
        "colab": {
          "base_uri": "https://localhost:8080/",
          "height": 34
        }
      },
      "source": [
        "s=\"i love my india\"\n",
        "s"
      ],
      "execution_count": 0,
      "outputs": [
        {
          "output_type": "execute_result",
          "data": {
            "text/plain": [
              "'i love my india'"
            ]
          },
          "metadata": {
            "tags": []
          },
          "execution_count": 1
        }
      ]
    },
    {
      "cell_type": "code",
      "metadata": {
        "id": "ekUk_h3N5qM-",
        "colab_type": "code",
        "outputId": "4a919cf1-049b-4278-8739-1bf2fee32bed",
        "colab": {
          "base_uri": "https://localhost:8080/",
          "height": 34
        }
      },
      "source": [
        "s=\" I'm tanisha \"\n",
        "s"
      ],
      "execution_count": 0,
      "outputs": [
        {
          "output_type": "execute_result",
          "data": {
            "text/plain": [
              "\" I'm tanisha \""
            ]
          },
          "metadata": {
            "tags": []
          },
          "execution_count": 2
        }
      ]
    },
    {
      "cell_type": "code",
      "metadata": {
        "id": "pf6SBJ9Z6PJ0",
        "colab_type": "code",
        "outputId": "7e57e0a5-0412-4b0f-9790-7932ce715f12",
        "colab": {
          "base_uri": "https://localhost:8080/",
          "height": 34
        }
      },
      "source": [
        "print(s)"
      ],
      "execution_count": 0,
      "outputs": [
        {
          "output_type": "stream",
          "text": [
            " I'm tanisha \n"
          ],
          "name": "stdout"
        }
      ]
    },
    {
      "cell_type": "code",
      "metadata": {
        "id": "d4Xmn-_O6yMH",
        "colab_type": "code",
        "outputId": "ac843d9e-815c-4edd-8d2a-1b95e2144c8c",
        "colab": {
          "base_uri": "https://localhost:8080/",
          "height": 34
        }
      },
      "source": [
        "print('i have car = 10')"
      ],
      "execution_count": 0,
      "outputs": [
        {
          "output_type": "stream",
          "text": [
            "i have car = 10\n"
          ],
          "name": "stdout"
        }
      ]
    },
    {
      "cell_type": "code",
      "metadata": {
        "id": "BnrE7fHdgRbr",
        "colab_type": "code",
        "outputId": "7633bf78-0283-47ac-a79a-95558bc1cd6b",
        "colab": {
          "base_uri": "https://localhost:8080/",
          "height": 129
        }
      },
      "source": [
        "print(my name is ram)"
      ],
      "execution_count": 0,
      "outputs": [
        {
          "output_type": "error",
          "ename": "SyntaxError",
          "evalue": "ignored",
          "traceback": [
            "\u001b[0;36m  File \u001b[0;32m\"<ipython-input-5-8a78d6648ca5>\"\u001b[0;36m, line \u001b[0;32m1\u001b[0m\n\u001b[0;31m    print(my name is ram)\u001b[0m\n\u001b[0m                ^\u001b[0m\n\u001b[0;31mSyntaxError\u001b[0m\u001b[0;31m:\u001b[0m invalid syntax\n"
          ]
        }
      ]
    },
    {
      "cell_type": "code",
      "metadata": {
        "id": "dtq8TyTygWzs",
        "colab_type": "code",
        "outputId": "297744d1-6eaf-4f7e-bbc8-d2503e68ff0e",
        "colab": {
          "base_uri": "https://localhost:8080/",
          "height": 34
        }
      },
      "source": [
        "my_name = 100\n",
        "print('my_name')"
      ],
      "execution_count": 0,
      "outputs": [
        {
          "output_type": "stream",
          "text": [
            "my_name\n"
          ],
          "name": "stdout"
        }
      ]
    },
    {
      "cell_type": "code",
      "metadata": {
        "id": "eV5K9rr1iGnT",
        "colab_type": "code",
        "outputId": "0cfc5548-ac00-4643-f4f9-5162380c74e5",
        "colab": {
          "base_uri": "https://localhost:8080/",
          "height": 170
        }
      },
      "source": [
        "print('hello world1')\n",
        "print('hello world2')\n",
        "print('i \\n love my india')\n",
        "print('i \\n love my mom') \n",
        "print('\\n')\n",
        "print('i am millioniar')"
      ],
      "execution_count": 0,
      "outputs": [
        {
          "output_type": "stream",
          "text": [
            "hello world1\n",
            "hello world2\n",
            "i \n",
            " love my india\n",
            "i \n",
            " love my mom\n",
            "\n",
            "\n",
            "i am millioniar\n"
          ],
          "name": "stdout"
        }
      ]
    },
    {
      "cell_type": "markdown",
      "metadata": {
        "id": "sTeLZk80lyKY",
        "colab_type": "text"
      },
      "source": [
        "**String Basics**"
      ]
    },
    {
      "cell_type": "code",
      "metadata": {
        "id": "EJdEkdJtnH1Y",
        "colab_type": "code",
        "outputId": "2948be63-b905-4037-c797-eb8493ee7dec",
        "colab": {
          "base_uri": "https://localhost:8080/",
          "height": 34
        }
      },
      "source": [
        "len('hello')"
      ],
      "execution_count": 0,
      "outputs": [
        {
          "output_type": "execute_result",
          "data": {
            "text/plain": [
              "5"
            ]
          },
          "metadata": {
            "tags": []
          },
          "execution_count": 26
        }
      ]
    },
    {
      "cell_type": "code",
      "metadata": {
        "id": "yqqkGll6nogI",
        "colab_type": "code",
        "outputId": "7d936735-cc02-4bca-9ffd-9ca18887bbb9",
        "colab": {
          "base_uri": "https://localhost:8080/",
          "height": 34
        }
      },
      "source": [
        "len('hello world')"
      ],
      "execution_count": 0,
      "outputs": [
        {
          "output_type": "execute_result",
          "data": {
            "text/plain": [
              "11"
            ]
          },
          "metadata": {
            "tags": []
          },
          "execution_count": 37
        }
      ]
    },
    {
      "cell_type": "code",
      "metadata": {
        "id": "Mx0oTMpxn4rZ",
        "colab_type": "code",
        "outputId": "5b620270-4290-4b8d-a4f4-3571fefa2415",
        "colab": {
          "base_uri": "https://localhost:8080/",
          "height": 34
        }
      },
      "source": [
        "len('hello  world')"
      ],
      "execution_count": 0,
      "outputs": [
        {
          "output_type": "execute_result",
          "data": {
            "text/plain": [
              "12"
            ]
          },
          "metadata": {
            "tags": []
          },
          "execution_count": 28
        }
      ]
    },
    {
      "cell_type": "code",
      "metadata": {
        "id": "wVGjXAKWoGp3",
        "colab_type": "code",
        "outputId": "2f51f594-95ff-49ba-c605-ac0d95a7231e",
        "colab": {
          "base_uri": "https://localhost:8080/",
          "height": 34
        }
      },
      "source": [
        "p='i have a car'\n",
        "len(p)"
      ],
      "execution_count": 0,
      "outputs": [
        {
          "output_type": "execute_result",
          "data": {
            "text/plain": [
              "12"
            ]
          },
          "metadata": {
            "tags": []
          },
          "execution_count": 35
        }
      ]
    },
    {
      "cell_type": "markdown",
      "metadata": {
        "id": "zyI7qKCMpmq6",
        "colab_type": "text"
      },
      "source": [
        "\n",
        "\n",
        "**String Indexing**\n",
        "\n",
        "\n"
      ]
    },
    {
      "cell_type": "code",
      "metadata": {
        "id": "nxkhrW_jp81u",
        "colab_type": "code",
        "outputId": "fbd83d13-8cf6-4582-e2ea-80a23a8c08f9",
        "colab": {
          "base_uri": "https://localhost:8080/",
          "height": 34
        }
      },
      "source": [
        "my_name = 'hello world1'\n",
        "my_name[7]\n"
      ],
      "execution_count": 0,
      "outputs": [
        {
          "output_type": "execute_result",
          "data": {
            "text/plain": [
              "'o'"
            ]
          },
          "metadata": {
            "tags": []
          },
          "execution_count": 43
        }
      ]
    },
    {
      "cell_type": "code",
      "metadata": {
        "id": "0yhHow9MsuOM",
        "colab_type": "code",
        "outputId": "75d612c9-474d-494b-9540-3cc93476ff86",
        "colab": {
          "base_uri": "https://localhost:8080/",
          "height": 68
        }
      },
      "source": [
        "print(my_name[2])\n",
        "print(my_name[3])\n",
        "print(my_name[4])"
      ],
      "execution_count": 0,
      "outputs": [
        {
          "output_type": "stream",
          "text": [
            "l\n",
            "l\n",
            "o\n"
          ],
          "name": "stdout"
        }
      ]
    },
    {
      "cell_type": "code",
      "metadata": {
        "id": "JHsCH6nltWxr",
        "colab_type": "code",
        "outputId": "86321904-7d2e-4168-b9f9-b1fda2f09d32",
        "colab": {
          "base_uri": "https://localhost:8080/",
          "height": 34
        }
      },
      "source": [
        "my_name[2]\n",
        "my_name[3]\n",
        "my_name[4]"
      ],
      "execution_count": 0,
      "outputs": [
        {
          "output_type": "execute_result",
          "data": {
            "text/plain": [
              "'o'"
            ]
          },
          "metadata": {
            "tags": []
          },
          "execution_count": 47
        }
      ]
    },
    {
      "cell_type": "code",
      "metadata": {
        "id": "tqMYIzN5uWxy",
        "colab_type": "code",
        "colab": {}
      },
      "source": [
        ""
      ],
      "execution_count": 0,
      "outputs": []
    }
  ]
}