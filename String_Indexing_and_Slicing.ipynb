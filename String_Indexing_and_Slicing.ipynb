{
  "nbformat": 4,
  "nbformat_minor": 0,
  "metadata": {
    "colab": {
      "name": "Copy of String Indexing and Slicing.ipynb",
      "provenance": [],
      "collapsed_sections": [],
      "authorship_tag": "ABX9TyOWwEaSQmrIsqz7Oe4Ncytq",
      "include_colab_link": true
    },
    "kernelspec": {
      "name": "python3",
      "display_name": "Python 3"
    }
  },
  "cells": [
    {
      "cell_type": "markdown",
      "metadata": {
        "id": "view-in-github",
        "colab_type": "text"
      },
      "source": [
        "<a href=\"https://colab.research.google.com/github/rdgupta276/python-programs/blob/master/String_Indexing_and_Slicing.ipynb\" target=\"_parent\"><img src=\"https://colab.research.google.com/assets/colab-badge.svg\" alt=\"Open In Colab\"/></a>"
      ]
    },
    {
      "cell_type": "markdown",
      "metadata": {
        "id": "4LBZAa1cQCXq",
        "colab_type": "text"
      },
      "source": [
        ""
      ]
    },
    {
      "cell_type": "markdown",
      "metadata": {
        "id": "CQgqIAyqQEJn",
        "colab_type": "text"
      },
      "source": [
        "# **String Indexing**"
      ]
    },
    {
      "cell_type": "code",
      "metadata": {
        "id": "0AbQKVQLQOOq",
        "colab_type": "code",
        "colab": {}
      },
      "source": [
        "s= 'hello world'"
      ],
      "execution_count": 0,
      "outputs": []
    },
    {
      "cell_type": "code",
      "metadata": {
        "id": "apwJPWekQR7U",
        "colab_type": "code",
        "outputId": "7c4d2200-612d-4881-ac22-834ea7e8cbf9",
        "colab": {
          "base_uri": "https://localhost:8080/",
          "height": 34
        }
      },
      "source": [
        "s"
      ],
      "execution_count": 0,
      "outputs": [
        {
          "output_type": "execute_result",
          "data": {
            "text/plain": [
              "'hello world'"
            ]
          },
          "metadata": {
            "tags": []
          },
          "execution_count": 2
        }
      ]
    },
    {
      "cell_type": "code",
      "metadata": {
        "id": "2pMiMMGeQdYF",
        "colab_type": "code",
        "outputId": "8a2c4323-466a-4220-f143-eb3468f0a6da",
        "colab": {
          "base_uri": "https://localhost:8080/",
          "height": 34
        }
      },
      "source": [
        "print(s)"
      ],
      "execution_count": 0,
      "outputs": [
        {
          "output_type": "stream",
          "text": [
            "hello world\n"
          ],
          "name": "stdout"
        }
      ]
    },
    {
      "cell_type": "markdown",
      "metadata": {
        "id": "D-gcC-_NQtw0",
        "colab_type": "text"
      },
      "source": [
        "**Lets start indexing (Show first letter)**"
      ]
    },
    {
      "cell_type": "code",
      "metadata": {
        "id": "p11wsOmZQ39i",
        "colab_type": "code",
        "outputId": "78ee6b12-eac2-45d8-e57b-c2462c201022",
        "colab": {
          "base_uri": "https://localhost:8080/",
          "height": 34
        }
      },
      "source": [
        "s[0]"
      ],
      "execution_count": 0,
      "outputs": [
        {
          "output_type": "execute_result",
          "data": {
            "text/plain": [
              "'h'"
            ]
          },
          "metadata": {
            "tags": []
          },
          "execution_count": 5
        }
      ]
    },
    {
      "cell_type": "code",
      "metadata": {
        "id": "KkE5nlDwQnbu",
        "colab_type": "code",
        "outputId": "70154a75-a50f-4873-f192-56079fc3aaef",
        "colab": {
          "base_uri": "https://localhost:8080/",
          "height": 34
        }
      },
      "source": [
        "s[1]"
      ],
      "execution_count": 0,
      "outputs": [
        {
          "output_type": "execute_result",
          "data": {
            "text/plain": [
              "'e'"
            ]
          },
          "metadata": {
            "tags": []
          },
          "execution_count": 6
        }
      ]
    },
    {
      "cell_type": "code",
      "metadata": {
        "id": "z8PcxoFIRAkU",
        "colab_type": "code",
        "outputId": "d0b1799a-b672-433d-9f24-db79f3064826",
        "colab": {
          "base_uri": "https://localhost:8080/",
          "height": 34
        }
      },
      "source": [
        "s[2]"
      ],
      "execution_count": 0,
      "outputs": [
        {
          "output_type": "execute_result",
          "data": {
            "text/plain": [
              "'l'"
            ]
          },
          "metadata": {
            "tags": []
          },
          "execution_count": 7
        }
      ]
    },
    {
      "cell_type": "markdown",
      "metadata": {
        "id": "-XGrmoQ9RMEH",
        "colab_type": "text"
      },
      "source": [
        "# **To perform Slicing**"
      ]
    },
    {
      "cell_type": "code",
      "metadata": {
        "id": "ukz-lNR-RQ4Y",
        "colab_type": "code",
        "outputId": "7c80f975-024e-4a09-c099-e612e14626d4",
        "colab": {
          "base_uri": "https://localhost:8080/",
          "height": 34
        }
      },
      "source": [
        "s[1:]"
      ],
      "execution_count": 0,
      "outputs": [
        {
          "output_type": "execute_result",
          "data": {
            "text/plain": [
              "'ello world'"
            ]
          },
          "metadata": {
            "tags": []
          },
          "execution_count": 8
        }
      ]
    },
    {
      "cell_type": "markdown",
      "metadata": {
        "id": "PfGrRqF9Ry05",
        "colab_type": "text"
      },
      "source": [
        "***s[1:] iska matlab 1st letter ko chodhkar saare letters aa jayenge***"
      ]
    },
    {
      "cell_type": "code",
      "metadata": {
        "id": "h89MYY1QSDjh",
        "colab_type": "code",
        "outputId": "309d71a8-45d6-4836-dfb4-89c8675182aa",
        "colab": {
          "base_uri": "https://localhost:8080/",
          "height": 34
        }
      },
      "source": [
        "s"
      ],
      "execution_count": 0,
      "outputs": [
        {
          "output_type": "execute_result",
          "data": {
            "text/plain": [
              "'hello world'"
            ]
          },
          "metadata": {
            "tags": []
          },
          "execution_count": 9
        }
      ]
    },
    {
      "cell_type": "code",
      "metadata": {
        "id": "9lDR9CbqSJ76",
        "colab_type": "code",
        "outputId": "75660913-aef3-4396-b606-f65e6020da07",
        "colab": {
          "base_uri": "https://localhost:8080/",
          "height": 34
        }
      },
      "source": [
        "s[:3]"
      ],
      "execution_count": 0,
      "outputs": [
        {
          "output_type": "execute_result",
          "data": {
            "text/plain": [
              "'hel'"
            ]
          },
          "metadata": {
            "tags": []
          },
          "execution_count": 10
        }
      ]
    },
    {
      "cell_type": "markdown",
      "metadata": {
        "id": "xaGBRF1HSR33",
        "colab_type": "text"
      },
      "source": [
        "***s[:3] iska matlab starting ke sirf 3 letters hi print honge ya show honge***"
      ]
    },
    {
      "cell_type": "code",
      "metadata": {
        "id": "9D8CU4ecShZT",
        "colab_type": "code",
        "outputId": "0da155c1-06ef-47cb-97e4-551af9e814bc",
        "colab": {
          "base_uri": "https://localhost:8080/",
          "height": 34
        }
      },
      "source": [
        "s[:]"
      ],
      "execution_count": 0,
      "outputs": [
        {
          "output_type": "execute_result",
          "data": {
            "text/plain": [
              "'hello world'"
            ]
          },
          "metadata": {
            "tags": []
          },
          "execution_count": 11
        }
      ]
    },
    {
      "cell_type": "markdown",
      "metadata": {
        "id": "j5ttN2H9SqFr",
        "colab_type": "text"
      },
      "source": [
        "***s[:] is matlab ki Everthing (as it is) print ho jayega***"
      ]
    },
    {
      "cell_type": "code",
      "metadata": {
        "id": "G80PwizdS4FN",
        "colab_type": "code",
        "outputId": "5c7f7032-0be7-418e-db1d-541b07218615",
        "colab": {
          "base_uri": "https://localhost:8080/",
          "height": 34
        }
      },
      "source": [
        "s[-1]"
      ],
      "execution_count": 0,
      "outputs": [
        {
          "output_type": "execute_result",
          "data": {
            "text/plain": [
              "'d'"
            ]
          },
          "metadata": {
            "tags": []
          },
          "execution_count": 12
        }
      ]
    },
    {
      "cell_type": "markdown",
      "metadata": {
        "id": "qt3JFYq-S9Tb",
        "colab_type": "text"
      },
      "source": [
        "***s[-1] iska matlab ki 0 position se pehle jo letter hai sirf wo print hoga... bole to sirf last wala word print ho jayega***"
      ]
    },
    {
      "cell_type": "code",
      "metadata": {
        "id": "XBkgyuEjTsOX",
        "colab_type": "code",
        "outputId": "bbfc7848-f9c8-4623-c975-caf694ea62d7",
        "colab": {
          "base_uri": "https://localhost:8080/",
          "height": 34
        }
      },
      "source": [
        "s[:-1]"
      ],
      "execution_count": 0,
      "outputs": [
        {
          "output_type": "execute_result",
          "data": {
            "text/plain": [
              "'hello worl'"
            ]
          },
          "metadata": {
            "tags": []
          },
          "execution_count": 13
        }
      ]
    },
    {
      "cell_type": "markdown",
      "metadata": {
        "id": "UeojugF9UEsN",
        "colab_type": "text"
      },
      "source": [
        "***s[:-1] iska matlab ki Everything is print except last letter***"
      ]
    },
    {
      "cell_type": "code",
      "metadata": {
        "id": "x5--QgdmUUVH",
        "colab_type": "code",
        "outputId": "c17d8b34-9763-4d0a-8907-c7f3ee3f31be",
        "colab": {
          "base_uri": "https://localhost:8080/",
          "height": 34
        }
      },
      "source": [
        "s[::1]"
      ],
      "execution_count": 0,
      "outputs": [
        {
          "output_type": "execute_result",
          "data": {
            "text/plain": [
              "'hello world'"
            ]
          },
          "metadata": {
            "tags": []
          },
          "execution_count": 14
        }
      ]
    },
    {
      "cell_type": "markdown",
      "metadata": {
        "id": "tUYCDe8QU8fg",
        "colab_type": "text"
      },
      "source": [
        "***s[::1] iska matlab Grab everthing but har ek word print hoga (go in step size of 1)***"
      ]
    },
    {
      "cell_type": "code",
      "metadata": {
        "id": "mft77A0iVQPe",
        "colab_type": "code",
        "outputId": "03954b43-91ec-4ffa-aac2-76dfd737d30f",
        "colab": {
          "base_uri": "https://localhost:8080/",
          "height": 34
        }
      },
      "source": [
        "s[::2]"
      ],
      "execution_count": 0,
      "outputs": [
        {
          "output_type": "execute_result",
          "data": {
            "text/plain": [
              "'hlowrd'"
            ]
          },
          "metadata": {
            "tags": []
          },
          "execution_count": 15
        }
      ]
    },
    {
      "cell_type": "markdown",
      "metadata": {
        "id": "zWiSCu7UVa5g",
        "colab_type": "text"
      },
      "source": [
        "***s[::2] iska matlab Grab everthing but har ek word ke baad ek chodhkar print hoga (go in step size of 2)***"
      ]
    },
    {
      "cell_type": "code",
      "metadata": {
        "id": "JUWFdYSsVsiu",
        "colab_type": "code",
        "outputId": "c4fc5c13-f446-4220-ba18-6f2a62ef3bed",
        "colab": {
          "base_uri": "https://localhost:8080/",
          "height": 34
        }
      },
      "source": [
        "s[::-1]"
      ],
      "execution_count": 0,
      "outputs": [
        {
          "output_type": "execute_result",
          "data": {
            "text/plain": [
              "'dlrow olleh'"
            ]
          },
          "metadata": {
            "tags": []
          },
          "execution_count": 18
        }
      ]
    },
    {
      "cell_type": "markdown",
      "metadata": {
        "id": "apwRliikV667",
        "colab_type": "text"
      },
      "source": [
        "***s[::-1] jb string ko piche se matlab backward se print krna ho tb ise use krenge and isme har ek word print hoga*** \n",
        "***Ex - Ram Dayal   into   layaD maR***"
      ]
    },
    {
      "cell_type": "code",
      "metadata": {
        "id": "HkOVbFcOYChY",
        "colab_type": "code",
        "outputId": "ac3440e8-5304-4542-f828-c5166a4a5c50",
        "colab": {
          "base_uri": "https://localhost:8080/",
          "height": 34
        }
      },
      "source": [
        "s[::-2]"
      ],
      "execution_count": 0,
      "outputs": [
        {
          "output_type": "execute_result",
          "data": {
            "text/plain": [
              "'drwolh'"
            ]
          },
          "metadata": {
            "tags": []
          },
          "execution_count": 19
        }
      ]
    },
    {
      "cell_type": "markdown",
      "metadata": {
        "id": "F_XI_9GyY7_U",
        "colab_type": "text"
      },
      "source": [
        "***s[::-2] jb string ko piche se matlab backward se print krna ho tb ise use krenge and isme ek word ke baad ek chodhkar print hoga*** \n",
        "***Ex - Ram Dayal   into   lyDmR***"
      ]
    }
  ]
}